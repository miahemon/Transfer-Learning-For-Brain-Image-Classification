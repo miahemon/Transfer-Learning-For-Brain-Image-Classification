{
 "cells": [
  {
   "cell_type": "code",
   "execution_count": 1,
   "id": "3fc72157",
   "metadata": {
    "execution": {
     "iopub.execute_input": "2023-11-14T09:29:31.878232Z",
     "iopub.status.busy": "2023-11-14T09:29:31.877856Z",
     "iopub.status.idle": "2023-11-14T09:29:44.152853Z",
     "shell.execute_reply": "2023-11-14T09:29:44.151884Z"
    },
    "papermill": {
     "duration": 12.286223,
     "end_time": "2023-11-14T09:29:44.155202",
     "exception": false,
     "start_time": "2023-11-14T09:29:31.868979",
     "status": "completed"
    },
    "tags": []
   },
   "outputs": [
    {
     "name": "stderr",
     "output_type": "stream",
     "text": [
      "/opt/conda/lib/python3.10/site-packages/scipy/__init__.py:146: UserWarning: A NumPy version >=1.16.5 and <1.23.0 is required for this version of SciPy (detected version 1.24.3\n",
      "  warnings.warn(f\"A NumPy version >={np_minversion} and <{np_maxversion}\"\n"
     ]
    }
   ],
   "source": [
    "import tensorflow as tf \n",
    "from tensorflow.keras.preprocessing.image import ImageDataGenerator\n",
    "from tensorflow.keras.applications import MobileNetV2\n",
    "from tensorflow.keras.layers import Dense, GlobalAveragePooling2D\n",
    "from tensorflow.keras.models import Model\n",
    "from tensorflow.keras.optimizers import Adam"
   ]
  },
  {
   "cell_type": "code",
   "execution_count": 2,
   "id": "b62b88b2",
   "metadata": {
    "execution": {
     "iopub.execute_input": "2023-11-14T09:29:44.171043Z",
     "iopub.status.busy": "2023-11-14T09:29:44.170488Z",
     "iopub.status.idle": "2023-11-14T09:29:44.175032Z",
     "shell.execute_reply": "2023-11-14T09:29:44.174174Z"
    },
    "papermill": {
     "duration": 0.014214,
     "end_time": "2023-11-14T09:29:44.176845",
     "exception": false,
     "start_time": "2023-11-14T09:29:44.162631",
     "status": "completed"
    },
    "tags": []
   },
   "outputs": [],
   "source": [
    "trainingDatasets = \"/kaggle/input/mri-image-based-brain-tumor-classification/MRI Image Dataset for Brain Tumor/Training\"\n",
    "validationDatasets = \"/kaggle/input/mri-image-based-brain-tumor-classification/MRI Image Dataset for Brain Tumor/Validation\""
   ]
  },
  {
   "cell_type": "code",
   "execution_count": 3,
   "id": "5fb4db07",
   "metadata": {
    "execution": {
     "iopub.execute_input": "2023-11-14T09:29:44.191877Z",
     "iopub.status.busy": "2023-11-14T09:29:44.191597Z",
     "iopub.status.idle": "2023-11-14T09:29:44.196625Z",
     "shell.execute_reply": "2023-11-14T09:29:44.195902Z"
    },
    "papermill": {
     "duration": 0.014659,
     "end_time": "2023-11-14T09:29:44.198440",
     "exception": false,
     "start_time": "2023-11-14T09:29:44.183781",
     "status": "completed"
    },
    "tags": []
   },
   "outputs": [],
   "source": [
    "trainDatasetsGenerator = ImageDataGenerator(rescale = 1./255,\n",
    "                                           rotation_range=40,\n",
    "                                           shear_range=0.2,\n",
    "                                           width_shift_range=0.2,\n",
    "                                           height_shift_range = 0.2,\n",
    "                                           zoom_range = 0.2,\n",
    "                                           horizontal_flip=True,\n",
    "                                            fill_mode=\"nearest\")\n",
    "\n",
    "validationDatasetsGenerator = ImageDataGenerator(rescale=1./255)"
   ]
  },
  {
   "cell_type": "code",
   "execution_count": 4,
   "id": "9902a7ee",
   "metadata": {
    "execution": {
     "iopub.execute_input": "2023-11-14T09:29:44.213291Z",
     "iopub.status.busy": "2023-11-14T09:29:44.212995Z",
     "iopub.status.idle": "2023-11-14T09:29:52.233470Z",
     "shell.execute_reply": "2023-11-14T09:29:52.232602Z"
    },
    "papermill": {
     "duration": 8.03033,
     "end_time": "2023-11-14T09:29:52.235679",
     "exception": false,
     "start_time": "2023-11-14T09:29:44.205349",
     "status": "completed"
    },
    "tags": []
   },
   "outputs": [
    {
     "name": "stdout",
     "output_type": "stream",
     "text": [
      "Total Image Datasets from training folder is:\n",
      "Found 5712 images belonging to 4 classes.\n",
      "Total Image Datasets from training folder is:4\n",
      "Total Image Datasets from validations folder is:\n",
      "Found 655 images belonging to 4 classes.\n"
     ]
    }
   ],
   "source": [
    "print(\"Total Image Datasets from training folder is:\")\n",
    "trainGenerator  = trainDatasetsGenerator.flow_from_directory(trainingDatasets,\n",
    "                                                            target_size = (224, 224),\n",
    "                                                            batch_size=32,\n",
    "                                                           class_mode = \"categorical\")\n",
    "print(f\"Total Image Datasets from training folder is:{trainGenerator.num_classes}\") \n",
    "print(\"Total Image Datasets from validations folder is:\")\n",
    "validationGenerator  = trainDatasetsGenerator.flow_from_directory(validationDatasets,\n",
    "                                                            target_size = (224, 224),\n",
    "                                                            batch_size=32,\n",
    "                                                            class_mode = \"categorical\")"
   ]
  },
  {
   "cell_type": "code",
   "execution_count": 5,
   "id": "28ac108d",
   "metadata": {
    "execution": {
     "iopub.execute_input": "2023-11-14T09:29:52.251394Z",
     "iopub.status.busy": "2023-11-14T09:29:52.251124Z",
     "iopub.status.idle": "2023-11-14T09:29:52.257286Z",
     "shell.execute_reply": "2023-11-14T09:29:52.256521Z"
    },
    "papermill": {
     "duration": 0.016029,
     "end_time": "2023-11-14T09:29:52.259095",
     "exception": false,
     "start_time": "2023-11-14T09:29:52.243066",
     "status": "completed"
    },
    "tags": []
   },
   "outputs": [
    {
     "data": {
      "text/plain": [
       "4"
      ]
     },
     "execution_count": 5,
     "metadata": {},
     "output_type": "execute_result"
    }
   ],
   "source": [
    "trainGenerator.num_classes"
   ]
  },
  {
   "cell_type": "code",
   "execution_count": 6,
   "id": "2a2045a2",
   "metadata": {
    "execution": {
     "iopub.execute_input": "2023-11-14T09:29:52.274492Z",
     "iopub.status.busy": "2023-11-14T09:29:52.274229Z",
     "iopub.status.idle": "2023-11-14T09:29:56.709261Z",
     "shell.execute_reply": "2023-11-14T09:29:56.708438Z"
    },
    "papermill": {
     "duration": 4.44515,
     "end_time": "2023-11-14T09:29:56.711487",
     "exception": false,
     "start_time": "2023-11-14T09:29:52.266337",
     "status": "completed"
    },
    "tags": []
   },
   "outputs": [
    {
     "name": "stdout",
     "output_type": "stream",
     "text": [
      "Downloading data from https://storage.googleapis.com/tensorflow/keras-applications/mobilenet_v2/mobilenet_v2_weights_tf_dim_ordering_tf_kernels_1.0_224_no_top.h5\n",
      "9406464/9406464 [==============================] - 0s 0us/step\n"
     ]
    }
   ],
   "source": [
    "base_model = MobileNetV2(weights='imagenet',\n",
    "                        include_top=False,\n",
    "                        input_shape = (224, 224, 3))"
   ]
  },
  {
   "cell_type": "code",
   "execution_count": 7,
   "id": "55af03ad",
   "metadata": {
    "execution": {
     "iopub.execute_input": "2023-11-14T09:29:56.728928Z",
     "iopub.status.busy": "2023-11-14T09:29:56.728279Z",
     "iopub.status.idle": "2023-11-14T09:29:56.775788Z",
     "shell.execute_reply": "2023-11-14T09:29:56.774909Z"
    },
    "papermill": {
     "duration": 0.058191,
     "end_time": "2023-11-14T09:29:56.777777",
     "exception": false,
     "start_time": "2023-11-14T09:29:56.719586",
     "status": "completed"
    },
    "tags": []
   },
   "outputs": [
    {
     "name": "stdout",
     "output_type": "stream",
     "text": [
      "Model Data Ouput: KerasTensor(type_spec=TensorSpec(shape=(None, 7, 7, 1280), dtype=tf.float32, name=None), name='out_relu/Relu6:0', description=\"created by layer 'out_relu'\")\n"
     ]
    }
   ],
   "source": [
    "# Proposed Model\n",
    "model_data = base_model.output\n",
    "print(f\"Model Data Ouput: {model_data}\")\n",
    "model_data  =  GlobalAveragePooling2D()(model_data)\n",
    "model_data = Dense(1024, activation = \"relu\")(model_data)\n",
    "final_result = Dense(trainGenerator.num_classes, activation = \"softmax\")(model_data)\n",
    "model = Model(inputs = base_model.inputs, outputs = final_result)"
   ]
  },
  {
   "cell_type": "code",
   "execution_count": 8,
   "id": "e4c5e551",
   "metadata": {
    "execution": {
     "iopub.execute_input": "2023-11-14T09:29:56.794435Z",
     "iopub.status.busy": "2023-11-14T09:29:56.794159Z",
     "iopub.status.idle": "2023-11-14T09:29:56.803666Z",
     "shell.execute_reply": "2023-11-14T09:29:56.802855Z"
    },
    "papermill": {
     "duration": 0.019998,
     "end_time": "2023-11-14T09:29:56.805616",
     "exception": false,
     "start_time": "2023-11-14T09:29:56.785618",
     "status": "completed"
    },
    "tags": []
   },
   "outputs": [],
   "source": [
    "for layer in base_model.layers:\n",
    "    layer.trainable = False"
   ]
  },
  {
   "cell_type": "code",
   "execution_count": 9,
   "id": "8dd0d352",
   "metadata": {
    "execution": {
     "iopub.execute_input": "2023-11-14T09:29:56.821924Z",
     "iopub.status.busy": "2023-11-14T09:29:56.821674Z",
     "iopub.status.idle": "2023-11-14T09:29:56.840072Z",
     "shell.execute_reply": "2023-11-14T09:29:56.839359Z"
    },
    "papermill": {
     "duration": 0.028736,
     "end_time": "2023-11-14T09:29:56.841892",
     "exception": false,
     "start_time": "2023-11-14T09:29:56.813156",
     "status": "completed"
    },
    "tags": []
   },
   "outputs": [],
   "source": [
    "model.compile(optimizer = Adam(learning_rate=0.1),\n",
    "             loss = \"categorical_crossentropy\", \n",
    "             metrics=[\"accuracy\"])"
   ]
  },
  {
   "cell_type": "code",
   "execution_count": 10,
   "id": "3ee5e840",
   "metadata": {
    "execution": {
     "iopub.execute_input": "2023-11-14T09:29:56.858462Z",
     "iopub.status.busy": "2023-11-14T09:29:56.858185Z",
     "iopub.status.idle": "2023-11-14T09:43:22.428101Z",
     "shell.execute_reply": "2023-11-14T09:43:22.427285Z"
    },
    "papermill": {
     "duration": 805.580983,
     "end_time": "2023-11-14T09:43:22.430565",
     "exception": false,
     "start_time": "2023-11-14T09:29:56.849582",
     "status": "completed"
    },
    "tags": []
   },
   "outputs": [
    {
     "name": "stdout",
     "output_type": "stream",
     "text": [
      "Epoch 1/10\n",
      "178/178 [==============================] - 123s 640ms/step - loss: 26.9157 - accuracy: 0.5155 - val_loss: 0.9398 - val_accuracy: 0.5234\n",
      "Epoch 2/10\n",
      "178/178 [==============================] - 75s 422ms/step - loss: 0.8861 - accuracy: 0.5789 - val_loss: 0.7929 - val_accuracy: 0.6469\n",
      "Epoch 3/10\n",
      "178/178 [==============================] - 75s 419ms/step - loss: 0.7690 - accuracy: 0.6570 - val_loss: 0.7092 - val_accuracy: 0.7172\n",
      "Epoch 4/10\n",
      "178/178 [==============================] - 75s 424ms/step - loss: 0.7237 - accuracy: 0.7202 - val_loss: 0.8660 - val_accuracy: 0.6250\n",
      "Epoch 5/10\n",
      "178/178 [==============================] - 75s 422ms/step - loss: 0.8383 - accuracy: 0.6731 - val_loss: 0.8944 - val_accuracy: 0.6156\n",
      "Epoch 6/10\n",
      "178/178 [==============================] - 75s 422ms/step - loss: 0.9344 - accuracy: 0.5384 - val_loss: 1.0154 - val_accuracy: 0.5016\n",
      "Epoch 7/10\n",
      "178/178 [==============================] - 75s 421ms/step - loss: 1.0714 - accuracy: 0.4621 - val_loss: 1.0129 - val_accuracy: 0.4891\n",
      "Epoch 8/10\n",
      "178/178 [==============================] - 75s 419ms/step - loss: 0.9027 - accuracy: 0.5109 - val_loss: 0.9231 - val_accuracy: 0.4969\n",
      "Epoch 9/10\n",
      "178/178 [==============================] - 75s 420ms/step - loss: 0.9016 - accuracy: 0.5484 - val_loss: 0.9445 - val_accuracy: 0.4984\n",
      "Epoch 10/10\n",
      "178/178 [==============================] - 75s 421ms/step - loss: 0.9928 - accuracy: 0.4812 - val_loss: 1.1125 - val_accuracy: 0.4297\n"
     ]
    }
   ],
   "source": [
    "history = model.fit(trainGenerator, \n",
    "                   steps_per_epoch = trainGenerator.n//trainGenerator.batch_size,\n",
    "                   epochs=10,\n",
    "                   validation_data = validationGenerator,\n",
    "                   validation_steps= validationGenerator.n//validationGenerator.batch_size)"
   ]
  },
  {
   "cell_type": "code",
   "execution_count": 11,
   "id": "7c454b5d",
   "metadata": {
    "execution": {
     "iopub.execute_input": "2023-11-14T09:43:22.732617Z",
     "iopub.status.busy": "2023-11-14T09:43:22.731854Z",
     "iopub.status.idle": "2023-11-14T09:43:30.859047Z",
     "shell.execute_reply": "2023-11-14T09:43:30.858210Z"
    },
    "papermill": {
     "duration": 8.27896,
     "end_time": "2023-11-14T09:43:30.861318",
     "exception": false,
     "start_time": "2023-11-14T09:43:22.582358",
     "status": "completed"
    },
    "tags": []
   },
   "outputs": [
    {
     "name": "stdout",
     "output_type": "stream",
     "text": [
      "20/20 [==============================] - 8s 376ms/step - loss: 1.0970 - accuracy: 0.4375\n"
     ]
    }
   ],
   "source": [
    "model_evaluate = model.evaluate(validationGenerator,\n",
    "                               steps = validationGenerator.n//validationGenerator.batch_size)"
   ]
  },
  {
   "cell_type": "code",
   "execution_count": 12,
   "id": "7b69d057",
   "metadata": {
    "execution": {
     "iopub.execute_input": "2023-11-14T09:43:31.163300Z",
     "iopub.status.busy": "2023-11-14T09:43:31.162415Z",
     "iopub.status.idle": "2023-11-14T09:43:31.503949Z",
     "shell.execute_reply": "2023-11-14T09:43:31.503165Z"
    },
    "papermill": {
     "duration": 0.494697,
     "end_time": "2023-11-14T09:43:31.506229",
     "exception": false,
     "start_time": "2023-11-14T09:43:31.011532",
     "status": "completed"
    },
    "tags": []
   },
   "outputs": [
    {
     "name": "stderr",
     "output_type": "stream",
     "text": [
      "/opt/conda/lib/python3.10/site-packages/keras/src/engine/training.py:3000: UserWarning: You are saving your model as an HDF5 file via `model.save()`. This file format is considered legacy. We recommend using instead the native Keras format, e.g. `model.save('my_model.keras')`.\n",
      "  saving_api.save_model(\n"
     ]
    }
   ],
   "source": [
    "model.save('/kaggle/working/mobilenetv2.h5')"
   ]
  },
  {
   "cell_type": "code",
   "execution_count": 13,
   "id": "de614486",
   "metadata": {
    "execution": {
     "iopub.execute_input": "2023-11-14T09:43:31.807976Z",
     "iopub.status.busy": "2023-11-14T09:43:31.807313Z",
     "iopub.status.idle": "2023-11-14T09:43:32.346749Z",
     "shell.execute_reply": "2023-11-14T09:43:32.345784Z"
    },
    "papermill": {
     "duration": 0.691762,
     "end_time": "2023-11-14T09:43:32.348808",
     "exception": false,
     "start_time": "2023-11-14T09:43:31.657046",
     "status": "completed"
    },
    "tags": []
   },
   "outputs": [
    {
     "data": {
      "image/png": "[encoded data removed]",
      "text/plain": [
       "<Figure size 640x480 with 1 Axes>"
      ]
     },
     "metadata": {},
     "output_type": "display_data"
    },
    {
     "data": {
      "image/png": "[encoded data removed]",
      "text/plain": [
       "<Figure size 640x480 with 1 Axes>"
      ]
     },
     "metadata": {},
     "output_type": "display_data"
    }
   ],
   "source": [
    "import matplotlib.pyplot as plt\n",
    "\n",
    "plt.plot(history.history[\"accuracy\"])\n",
    "plt.plot(history.history[\"val_accuracy\"])\n",
    "plt.title(\"Model Accuracy\")\n",
    "plt.xlabel(\"Epoch\")\n",
    "plt.legend(['Train', 'Validation'], loc = 'upper left')\n",
    "plt.show()\n",
    "\n",
    "\n",
    "plt.plot(history.history[\"loss\"])\n",
    "plt.plot(history.history[\"val_loss\"])\n",
    "plt.title(\"Model  Loss\")\n",
    "plt.xlabel(\"Epoch\")\n",
    "plt.legend(['Train', 'Validation'], loc = 'upper left')\n",
    "plt.show()"
   ]
  },
  {
   "cell_type": "code",
   "execution_count": 14,
   "id": "864b35eb",
   "metadata": {
    "execution": {
     "iopub.execute_input": "2023-11-14T09:43:32.652979Z",
     "iopub.status.busy": "2023-11-14T09:43:32.652616Z",
     "iopub.status.idle": "2023-11-14T09:43:34.058513Z",
     "shell.execute_reply": "2023-11-14T09:43:34.057513Z"
    },
    "papermill": {
     "duration": 1.560177,
     "end_time": "2023-11-14T09:43:34.060806",
     "exception": false,
     "start_time": "2023-11-14T09:43:32.500629",
     "status": "completed"
    },
    "tags": []
   },
   "outputs": [],
   "source": [
    "from tensorflow.keras.models import load_model\n",
    "from tensorflow.keras.preprocessing import image\n",
    "import numpy as np\n",
    "model_load = load_model(\"/kaggle/working/mobilenetv2.h5\")"
   ]
  },
  {
   "cell_type": "code",
   "execution_count": 15,
   "id": "bce248e2",
   "metadata": {
    "execution": {
     "iopub.execute_input": "2023-11-14T09:43:34.360128Z",
     "iopub.status.busy": "2023-11-14T09:43:34.359761Z",
     "iopub.status.idle": "2023-11-14T09:43:34.378991Z",
     "shell.execute_reply": "2023-11-14T09:43:34.378236Z"
    },
    "papermill": {
     "duration": 0.170858,
     "end_time": "2023-11-14T09:43:34.380931",
     "exception": false,
     "start_time": "2023-11-14T09:43:34.210073",
     "status": "completed"
    },
    "tags": []
   },
   "outputs": [],
   "source": [
    "image_data = \"/kaggle/input/mri-image-based-brain-tumor-classification/MRI Image Dataset for Brain Tumor/Testing/meningioma/Te-meTr_0000.jpg\"\n",
    "images = image.load_img(image_data, target_size=(224, 224))\n",
    "image_to_arrays = image.img_to_array(images)\n",
    "image_to_arrays = np.expand_dims(image_to_arrays, axis=0)\n",
    "image_to_arrays /=255."
   ]
  },
  {
   "cell_type": "code",
   "execution_count": 16,
   "id": "4ddf671e",
   "metadata": {
    "execution": {
     "iopub.execute_input": "2023-11-14T09:43:34.683853Z",
     "iopub.status.busy": "2023-11-14T09:43:34.683122Z",
     "iopub.status.idle": "2023-11-14T09:43:35.880907Z",
     "shell.execute_reply": "2023-11-14T09:43:35.879708Z"
    },
    "papermill": {
     "duration": 1.352632,
     "end_time": "2023-11-14T09:43:35.883029",
     "exception": false,
     "start_time": "2023-11-14T09:43:34.530397",
     "status": "completed"
    },
    "tags": []
   },
   "outputs": [
    {
     "name": "stdout",
     "output_type": "stream",
     "text": [
      "1/1 [==============================] - 1s 1s/step\n",
      "Predictiosn Results iS : [[0.28728664 0.28863233 0.06749221 0.35658875]]\n"
     ]
    }
   ],
   "source": [
    "predictions = model.predict(image_to_arrays)\n",
    "print(f\"Predictiosn Results iS : {predictions}\")"
   ]
  },
  {
   "cell_type": "code",
   "execution_count": 17,
   "id": "bb0deaf0",
   "metadata": {
    "execution": {
     "iopub.execute_input": "2023-11-14T09:43:36.188933Z",
     "iopub.status.busy": "2023-11-14T09:43:36.188283Z",
     "iopub.status.idle": "2023-11-14T09:43:36.193709Z",
     "shell.execute_reply": "2023-11-14T09:43:36.192848Z"
    },
    "papermill": {
     "duration": 0.160929,
     "end_time": "2023-11-14T09:43:36.195527",
     "exception": false,
     "start_time": "2023-11-14T09:43:36.034598",
     "status": "completed"
    },
    "tags": []
   },
   "outputs": [
    {
     "name": "stdout",
     "output_type": "stream",
     "text": [
      "Predictiosn Class is : Pitutiary\n"
     ]
    }
   ],
   "source": [
    "label_information = ['Glioma', \"Meningioma\", \"No-Tumor\", \"Pitutiary\"]\n",
    "predicted_class = label_information[np.argmax(predictions)]\n",
    "print(f\"Predictiosn Class is : {predicted_class}\")"
   ]
  },
  {
   "cell_type": "markdown",
   "id": "3ad01eb6",
   "metadata": {
    "papermill": {
     "duration": 0.15053,
     "end_time": "2023-11-14T09:43:36.497047",
     "exception": false,
     "start_time": "2023-11-14T09:43:36.346517",
     "status": "completed"
    },
    "tags": []
   },
   "source": [
    "1. Pre- Trained Model -- MobileNetV2 (Image Net)\n",
    "2. Transfer Learning -- Base Model (MobileNetV2) + Proposed Model (FCNN)\n",
    "3. Fine Tuning"
   ]
  },
  {
   "cell_type": "code",
   "execution_count": 18,
   "id": "69ed70d9",
   "metadata": {
    "execution": {
     "iopub.execute_input": "2023-11-14T09:43:36.849019Z",
     "iopub.status.busy": "2023-11-14T09:43:36.848484Z",
     "iopub.status.idle": "2023-11-14T09:43:36.853024Z",
     "shell.execute_reply": "2023-11-14T09:43:36.852133Z"
    },
    "papermill": {
     "duration": 0.158577,
     "end_time": "2023-11-14T09:43:36.854905",
     "exception": false,
     "start_time": "2023-11-14T09:43:36.696328",
     "status": "completed"
    },
    "tags": []
   },
   "outputs": [],
   "source": [
    "# feature*weights + bias ==> "
   ]
  },
  {
   "cell_type": "code",
   "execution_count": 19,
   "id": "5e3c67d5",
   "metadata": {
    "execution": {
     "iopub.execute_input": "2023-11-14T09:43:37.158739Z",
     "iopub.status.busy": "2023-11-14T09:43:37.157866Z",
     "iopub.status.idle": "2023-11-14T09:43:37.162138Z",
     "shell.execute_reply": "2023-11-14T09:43:37.161232Z"
    },
    "papermill": {
     "duration": 0.157875,
     "end_time": "2023-11-14T09:43:37.164044",
     "exception": false,
     "start_time": "2023-11-14T09:43:37.006169",
     "status": "completed"
    },
    "tags": []
   },
   "outputs": [],
   "source": [
    "# base_model.layers[2].get_weights()[0]"
   ]
  },
  {
   "cell_type": "code",
   "execution_count": 20,
   "id": "d72fe06e",
   "metadata": {
    "execution": {
     "iopub.execute_input": "2023-11-14T09:43:37.464331Z",
     "iopub.status.busy": "2023-11-14T09:43:37.463966Z",
     "iopub.status.idle": "2023-11-14T09:43:37.472467Z",
     "shell.execute_reply": "2023-11-14T09:43:37.471757Z"
    },
    "papermill": {
     "duration": 0.160605,
     "end_time": "2023-11-14T09:43:37.474286",
     "exception": false,
     "start_time": "2023-11-14T09:43:37.313681",
     "status": "completed"
    },
    "tags": []
   },
   "outputs": [],
   "source": [
    "for layer in base_model.layers[:100]:\n",
    "    layer.trainable = True"
   ]
  },
  {
   "cell_type": "code",
   "execution_count": 21,
   "id": "2cfea676",
   "metadata": {
    "execution": {
     "iopub.execute_input": "2023-11-14T09:43:37.777992Z",
     "iopub.status.busy": "2023-11-14T09:43:37.777265Z",
     "iopub.status.idle": "2023-11-14T09:43:37.792775Z",
     "shell.execute_reply": "2023-11-14T09:43:37.791892Z"
    },
    "papermill": {
     "duration": 0.168824,
     "end_time": "2023-11-14T09:43:37.794626",
     "exception": false,
     "start_time": "2023-11-14T09:43:37.625802",
     "status": "completed"
    },
    "tags": []
   },
   "outputs": [],
   "source": [
    "model.compile(optimizer = Adam(learning_rate=0.0001),\n",
    "             loss = \"categorical_crossentropy\", \n",
    "             metrics=[\"accuracy\"])"
   ]
  },
  {
   "cell_type": "code",
   "execution_count": 22,
   "id": "f8a4703b",
   "metadata": {
    "execution": {
     "iopub.execute_input": "2023-11-14T09:43:38.096779Z",
     "iopub.status.busy": "2023-11-14T09:43:38.095919Z",
     "iopub.status.idle": "2023-11-14T09:56:42.149659Z",
     "shell.execute_reply": "2023-11-14T09:56:42.148837Z"
    },
    "papermill": {
     "duration": 784.207147,
     "end_time": "2023-11-14T09:56:42.151887",
     "exception": false,
     "start_time": "2023-11-14T09:43:37.944740",
     "status": "completed"
    },
    "tags": []
   },
   "outputs": [
    {
     "name": "stdout",
     "output_type": "stream",
     "text": [
      "Epoch 1/10\n",
      "178/178 [==============================] - 97s 432ms/step - loss: 1.2194 - accuracy: 0.4150 - val_loss: 1.1537 - val_accuracy: 0.4156\n",
      "Epoch 2/10\n",
      "178/178 [==============================] - 76s 427ms/step - loss: 1.1994 - accuracy: 0.4282 - val_loss: 1.1886 - val_accuracy: 0.4062\n",
      "Epoch 3/10\n",
      "178/178 [==============================] - 77s 434ms/step - loss: 1.0689 - accuracy: 0.4644 - val_loss: 1.2221 - val_accuracy: 0.3969\n",
      "Epoch 4/10\n",
      "178/178 [==============================] - 77s 430ms/step - loss: 1.0758 - accuracy: 0.4757 - val_loss: 1.1960 - val_accuracy: 0.4031\n",
      "Epoch 5/10\n",
      "178/178 [==============================] - 76s 429ms/step - loss: 1.0231 - accuracy: 0.4755 - val_loss: 1.1447 - val_accuracy: 0.4203\n",
      "Epoch 6/10\n",
      "178/178 [==============================] - 76s 428ms/step - loss: 1.0028 - accuracy: 0.4877 - val_loss: 1.2090 - val_accuracy: 0.4141\n",
      "Epoch 7/10\n",
      "178/178 [==============================] - 76s 428ms/step - loss: 0.9421 - accuracy: 0.4838 - val_loss: 1.1872 - val_accuracy: 0.4328\n",
      "Epoch 8/10\n",
      "178/178 [==============================] - 77s 430ms/step - loss: 0.9962 - accuracy: 0.4871 - val_loss: 1.1626 - val_accuracy: 0.4281\n",
      "Epoch 9/10\n",
      "178/178 [==============================] - 76s 424ms/step - loss: 0.8778 - accuracy: 0.4905 - val_loss: 1.8295 - val_accuracy: 0.4750\n",
      "Epoch 10/10\n",
      "178/178 [==============================] - 76s 426ms/step - loss: 0.8319 - accuracy: 0.4996 - val_loss: 1.5913 - val_accuracy: 0.4594\n"
     ]
    }
   ],
   "source": [
    "history = model.fit(trainGenerator, \n",
    "                   steps_per_epoch = trainGenerator.n//trainGenerator.batch_size,\n",
    "                   epochs=10,\n",
    "                   validation_data = validationGenerator,\n",
    "                   validation_steps= validationGenerator.n//validationGenerator.batch_size)"
   ]
  },
  {
   "cell_type": "code",
   "execution_count": 23,
   "id": "a7ecbc6c",
   "metadata": {
    "execution": {
     "iopub.execute_input": "2023-11-14T09:56:42.740617Z",
     "iopub.status.busy": "2023-11-14T09:56:42.740161Z",
     "iopub.status.idle": "2023-11-14T09:57:00.260227Z",
     "shell.execute_reply": "2023-11-14T09:57:00.259262Z"
    },
    "papermill": {
     "duration": 17.816559,
     "end_time": "2023-11-14T09:57:00.262370",
     "exception": false,
     "start_time": "2023-11-14T09:56:42.445811",
     "status": "completed"
    },
    "tags": []
   },
   "outputs": [
    {
     "name": "stdout",
     "output_type": "stream",
     "text": [
      "20/20 [==============================] - 8s 378ms/step - loss: 1.2764 - accuracy: 0.4547\n",
      "Test Loss :1.2764440774917603\n",
      "Test Accuracy :0.4546875059604645\n",
      "20/20 [==============================] - 9s 395ms/step\n"
     ]
    }
   ],
   "source": [
    "test_loss, test_accuracy = model.evaluate(validationGenerator,\n",
    "                               steps = validationGenerator.n//validationGenerator.batch_size)\n",
    "print(f\"Test Loss :{test_loss}\\nTest Accuracy :{test_accuracy}\")\n",
    "model_predcitions = model.predict(validationGenerator,\n",
    "                               steps = validationGenerator.n/validationGenerator.batch_size)\n",
    "y_actual = validationGenerator.classes\n",
    "y_pred = np.argmax(model_predcitions, axis = 1)"
   ]
  },
  {
   "cell_type": "code",
   "execution_count": 24,
   "id": "2da9876c",
   "metadata": {
    "execution": {
     "iopub.execute_input": "2023-11-14T09:57:00.862012Z",
     "iopub.status.busy": "2023-11-14T09:57:00.860989Z",
     "iopub.status.idle": "2023-11-14T09:57:02.095498Z",
     "shell.execute_reply": "2023-11-14T09:57:02.094575Z"
    },
    "papermill": {
     "duration": 1.534075,
     "end_time": "2023-11-14T09:57:02.097584",
     "exception": false,
     "start_time": "2023-11-14T09:57:00.563509",
     "status": "completed"
    },
    "tags": []
   },
   "outputs": [
    {
     "data": {
      "image/png": "[encoded data removed]",
      "text/plain": [
       "<Figure size 1000x500 with 2 Axes>"
      ]
     },
     "metadata": {},
     "output_type": "display_data"
    }
   ],
   "source": [
    "from sklearn.metrics import confusion_matrix\n",
    "import seaborn as sns\n",
    "\n",
    "cm = confusion_matrix(y_actual, y_pred)\n",
    "plt.figure(figsize = (10, 5))\n",
    "sns.heatmap(cm, annot = True, \n",
    "           fmt = \"d\", linewidths = 0.4,\n",
    "           square = True,\n",
    "           cmap = \"Blues\",\n",
    "           xticklabels = label_information, \n",
    "           yticklabels = label_information)\n",
    "plt.xlabel(\"Actual Labels\")\n",
    "plt.ylabel(\"Predcited labels\")\n",
    "plt.title(\"Brain Image Classifiction With Transfer Learning Confusion Matrix\")\n",
    "plt.show()"
   ]
  },
  {
   "cell_type": "code",
   "execution_count": null,
   "id": "2bb4d93c",
   "metadata": {
    "papermill": {
     "duration": 0.346639,
     "end_time": "2023-11-14T09:57:02.739861",
     "exception": false,
     "start_time": "2023-11-14T09:57:02.393222",
     "status": "completed"
    },
    "tags": []
   },
   "outputs": [],
   "source": []
  }
 ],
 "metadata": {
  "kernelspec": {
   "display_name": "Python 3",
   "language": "python",
   "name": "python3"
  },
  "language_info": {
   "codemirror_mode": {
    "name": "ipython",
    "version": 3
   },
   "file_extension": ".py",
   "mimetype": "text/x-python",
   "name": "python",
   "nbconvert_exporter": "python",
   "pygments_lexer": "ipython3",
   "version": "3.10.12"
  },
  "papermill": {
   "default_parameters": {},
   "duration": 1658.254411,
   "end_time": "2023-11-14T09:57:06.782226",
   "environment_variables": {},
   "exception": null,
   "input_path": "__notebook__.ipynb",
   "output_path": "__notebook__.ipynb",
   "parameters": {},
   "start_time": "2023-11-14T09:29:28.527815",
   "version": "2.4.0"
  }
 },
 "nbformat": 4,
 "nbformat_minor": 5
}
